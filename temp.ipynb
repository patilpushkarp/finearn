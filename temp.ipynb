{
 "cells": [
  {
   "cell_type": "code",
   "execution_count": 1,
   "metadata": {},
   "outputs": [],
   "source": [
    "import yfinance as yf\n",
    "import pandas as pd"
   ]
  },
  {
   "cell_type": "code",
   "execution_count": 2,
   "metadata": {},
   "outputs": [],
   "source": [
    "## Supporting functions\n",
    "\n",
    "def get_income_stmt(ticker):\n",
    "    \"\"\"\n",
    "    Function to get balance sheet for a ticker.\n",
    "    \"\"\"\n",
    "    ticker = yf.Ticker(f\"{ticker}.NS\")\n",
    "    return ticker.financials\n",
    "\n",
    "def save_income_stmt(ticker, income_stmt):\n",
    "    \"\"\"\n",
    "    Function to save balance sheet for the given ticker.\n",
    "    \"\"\"\n",
    "    # Check if the given ticker folder exists\n",
    "    folder_check = os.path.isdir(f\"./data/annual_reports/{ticker}\")\n",
    "    if not folder_check: # If ticker folder is not present, then create one.\n",
    "        os.mkdir(f\"./data/annual_reports/{ticker}\")\n",
    "    # Save the balance sheet to the ticker folder\n",
    "    income_stmt.to_csv(f\"./data/annual_reports/{ticker}/income_stmt.csv\")"
   ]
  },
  {
   "cell_type": "code",
   "execution_count": 3,
   "metadata": {},
   "outputs": [],
   "source": [
    "ics = get_income_stmt(\"BERGEPAINT\")\n",
    "save_income_stmt(\"BERGEPAINT\", ics)"
   ]
  },
  {
   "cell_type": "code",
   "execution_count": null,
   "metadata": {},
   "outputs": [],
   "source": []
  }
 ],
 "metadata": {
  "interpreter": {
   "hash": "d2d5922a66056138941dc2c2a67a5e4ce92a51abe86ec26ece2a5792c18dee8e"
  },
  "kernelspec": {
   "display_name": "Python 3.8.12 ('minis')",
   "language": "python",
   "name": "python3"
  },
  "language_info": {
   "codemirror_mode": {
    "name": "ipython",
    "version": 3
   },
   "file_extension": ".py",
   "mimetype": "text/x-python",
   "name": "python",
   "nbconvert_exporter": "python",
   "pygments_lexer": "ipython3",
   "version": "3.8.12"
  },
  "orig_nbformat": 4
 },
 "nbformat": 4,
 "nbformat_minor": 2
}
